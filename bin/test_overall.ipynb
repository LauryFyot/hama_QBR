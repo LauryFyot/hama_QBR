{
 "cells": [
  {
   "cell_type": "code",
   "execution_count": 86,
   "metadata": {},
   "outputs": [],
   "source": [
    "import pandas as pd\n",
    "import chardet\n",
    "import os\n",
    "import re\n",
    "from datetime import datetime\n",
    "\n",
    "pd.set_option(\"display.max_columns\", None)"
   ]
  },
  {
   "cell_type": "markdown",
   "metadata": {},
   "source": [
    "Definir les fichiers"
   ]
  },
  {
   "cell_type": "code",
   "execution_count": 87,
   "metadata": {},
   "outputs": [],
   "source": [
    "# 📌 Définir les dossiers\n",
    "DOSSIER_VENDOR = \"vendor_central_mois\"\n",
    "DOSSIER_AMVISOR = \"amvisor_mois\"\n",
    "DOSSIER_DATA = \"processed\""
   ]
  },
  {
   "cell_type": "code",
   "execution_count": 88,
   "metadata": {},
   "outputs": [
    {
     "name": "stdout",
     "output_type": "stream",
     "text": [
      "['Export Hama (FR) 2025-01-31 EN.csv', '.DS_Store', 'Export Hama (FR) 2024-11-30 EN.csv', 'Export Hama (FR) 2024-12-31 EN.csv', 'Export Hama (FR) 2025-02-28 EU.csv', 'Export Hama (FR) 2024-10-31 EN.csv', 'Export Hama (FR) 2025-03-20 EU.csv']\n",
      "['Ventes_ASIN_Fabrication_Venteaudétail_France_Mensuel_01-01-2025_31-01-2025.csv', 'Ventes_ASIN_Approvisionnement_Venteaudétail_France_Mensuel_01-12-2024_31-12-2024.csv', 'Ventes_ASIN_Approvisionnement_Venteaudétail_France_Mensuel_01-11-2024_30-11-2024.csv', 'Ventes_ASIN_Approvisionnement_Venteaudétail_France_Mensuel_01-02-2025_28-02-2025.csv', 'Ventes_ASIN_Fabrication_Venteaudétail_France_Mensuel_01-12-2024_31-12-2024.csv', 'Ventes_ASIN_Fabrication_Venteaudétail_France_Mensuel_01-11-2024_30-11-2024.csv', 'Ventes_ASIN_Fabrication_Venteaudétail_France_Mensuel_01-02-2025_28-02-2025.csv', 'Ventes_ASIN_Approvisionnement_Venteaudétail_France_Mensuel_01-01-2025_31-01-2025.csv']\n"
     ]
    }
   ],
   "source": [
    "fichiers_amvisor = os.listdir(DOSSIER_AMVISOR)\n",
    "fichiers_vendor_central = os.listdir(DOSSIER_VENDOR)\n",
    "\n",
    "print(fichiers_amvisor)\n",
    "print(fichiers_vendor_central)"
   ]
  },
  {
   "cell_type": "markdown",
   "metadata": {},
   "source": [
    "Global func"
   ]
  },
  {
   "cell_type": "code",
   "execution_count": 89,
   "metadata": {},
   "outputs": [],
   "source": [
    "# Fonction pour extraire la date (YYYY-MM) d'un fichier\n",
    "def extraire_mois_annee(nom_fichier):\n",
    "    # Format AMVisor (YYYY-MM)\n",
    "    match_amvisor = re.search(r\"(\\d{4})-(\\d{2})\", nom_fichier)\n",
    "    if match_amvisor:\n",
    "        return match_amvisor.group(0)\n",
    "    \n",
    "    # Format Vendor Central (JJ-MM-YYYY_JJ-MM-YYYY)\n",
    "    match_vendor = re.search(r\"(\\d{2})-(\\d{2})-(\\d{4})_\\d{2}-\\d{2}-\\d{4}\", nom_fichier)\n",
    "    if match_vendor:\n",
    "        return f\"{match_vendor.group(3)}-{match_vendor.group(2)}\"  \n",
    "\n",
    "    return None\n",
    "\n",
    "# Fonction pour récupérer la dernière date disponible entre les 2 dossiers\n",
    "def get_last_available_date():\n",
    "    fichiers = os.listdir(DOSSIER_VENDOR) + os.listdir(DOSSIER_AMVISOR)\n",
    "    dates = {extraire_mois_annee(f) for f in fichiers if extraire_mois_annee(f)}\n",
    "    \n",
    "    if not dates:\n",
    "        raise ValueError(\"❌ Aucune date valide trouvée dans les fichiers.\")\n",
    "\n",
    "    return max(dates)  # Retourne la dernière date (YYYY-MM)\n",
    "\n",
    "# Fonction pour récupérer les fichiers d'un mois donné et vérifier leur présence\n",
    "def get_files(annee_mois):\n",
    "    fichiers_vendor = os.listdir(DOSSIER_VENDOR)\n",
    "    fichiers_amvisor = os.listdir(DOSSIER_AMVISOR)\n",
    "\n",
    "    # Filtrer les fichiers correspondant au mois donné\n",
    "    fichiers_trouves = [\n",
    "        os.path.join(DOSSIER_AMVISOR, f) for f in fichiers_amvisor if extraire_mois_annee(f) == annee_mois\n",
    "    ] + [\n",
    "        os.path.join(DOSSIER_VENDOR, f) for f in fichiers_vendor if extraire_mois_annee(f) == annee_mois\n",
    "    ]\n",
    "\n",
    "    # Vérification : on doit avoir exactement 3 fichiers (Export, Fabrication, Approvisionnement)\n",
    "    if len(fichiers_trouves) != 3:\n",
    "        print(f\"❌ Fichiers manquants pour {annee_mois} : trouvés {len(fichiers_trouves)}/3.\") # raise FileNotFoundError\n",
    "\n",
    "    return fichiers_trouves\n"
   ]
  },
  {
   "cell_type": "code",
   "execution_count": 90,
   "metadata": {},
   "outputs": [
    {
     "name": "stdout",
     "output_type": "stream",
     "text": [
      "❌ Fichiers manquants pour 2025-03 : trouvés 1/3.\n"
     ]
    },
    {
     "data": {
      "text/plain": [
       "['amvisor_mois/Export Hama (FR) 2025-02-28 EU.csv',\n",
       " 'vendor_central_mois/Ventes_ASIN_Approvisionnement_Venteaudétail_France_Mensuel_01-02-2025_28-02-2025.csv',\n",
       " 'vendor_central_mois/Ventes_ASIN_Fabrication_Venteaudétail_France_Mensuel_01-02-2025_28-02-2025.csv']"
      ]
     },
     "execution_count": 90,
     "metadata": {},
     "output_type": "execute_result"
    }
   ],
   "source": [
    "derniere_date = get_last_available_date()\n",
    "fichiers_du_mois = get_files(derniere_date)\n",
    "\n",
    "dates = [\"2024-11\", \"2024-12\", \"2025-01\", \"2025-02\"]\n",
    "files = get_files(\"2025-02\")\n",
    "files"
   ]
  },
  {
   "cell_type": "code",
   "execution_count": 91,
   "metadata": {},
   "outputs": [],
   "source": [
    "def process_amvisor(path):\n",
    "\n",
    "    # Load Amvisor\n",
    "    df = pd.read_csv(path, sep=None, engine='python', encoding=\"ISO-8859-1\", dtype={\"EAN\": str})\n",
    "    df = df.dropna(subset=[\"ASIN\"])\n",
    "\n",
    "    # Get columns\n",
    "    columns_main = [\"ASIN\", 'Item no.', \"EAN\", \"Item\"]\n",
    "    columns_overall = [\"Extras\", \"Size\", \"Description Item\", \"Cat. 1\", \"Cat. 2\", \"Cat. 3\", \"Cat. 4\", \"Visible\", \"Title Content\", \"Variations\", \"Brand store URL\", \"Images\", \"Videos\", \"AI summary\", \"Code\", \"Catalogue\"]\n",
    "    columns_ads = [\"Ads Impressions CM\", \"Ads Clicks CM\", \"Ads CTR CM\", \"Ads Units 14d CM\", \"Ads Costs CM\", \"Ads RoAS CM\", \"Ads CVR CM\"]\n",
    "    columns_sales = [\"Sell-out CM\", \"Sell-out PM\", 'Total sell-out CM', 'Total sell-out PM', \"Revenue CM\", \"Revenue PM\", \"Units CM\", \"Units PM\", \"SRP\", \"Margin\", \"Replacements CM\", \"Replacements PM\"]\n",
    "    columns_stocks = ['Stock', 'Stock value', 'Total stock', 'Total stock value']\n",
    "    columns_state = [\"Reviews\", \"Stars\",'Coverage', 'Rank 1', 'Buy Box', 'Buy Box PM', 'Days not Buy Box', \"Views CM\", \"Views PM\", \"CVR CM\", \"CVR PM\"]\n",
    "    all_columns = columns_main + columns_overall + columns_ads + columns_sales + columns_stocks + columns_state\n",
    "    all_columns = [col for col in all_columns if col in df.columns]\n",
    "    \n",
    "    # Transform columns\n",
    "    colonnes_a_convertir = columns_ads + columns_sales + columns_stocks + columns_state\n",
    "    colonnes_a_convertir = [col for col in colonnes_a_convertir if col != \"Buy Box\"]\n",
    "    df[colonnes_a_convertir] = df[colonnes_a_convertir].replace({\"€\": \"\", \"%\": \"\", \"\\u202f\": \"\", \",\": \".\"}, regex=True).astype(float)\n",
    "\n",
    "    # Select data\n",
    "    df = df[all_columns]\n",
    "\n",
    "    return df\n",
    "\n",
    "def process_vendor_central(path1, path2):\n",
    "\n",
    "    # Load data\n",
    "    df_fab = pd.read_csv(path1, skiprows=1)\n",
    "    df_app = pd.read_csv(path2, skiprows=1)\n",
    "\n",
    "    # Select columns\n",
    "    columns = [\"ASIN\", \"Nom du produit\", \"Marque\", \"COGS expédié\", \"COGS expédié – Période antérieure (%)\", \"COGS expédié – Même période l'année dernière (%)\", \"Unités expédiées\", \"Unités expédiées – Période antérieure (%)\", \"Unités expédiées – Même période l'année dernière (%)\", \"Retours client\", \"Retours du client – Période antérieure (%)\", \"Retours du client – Même période l'année dernière (%)\"]\n",
    "    df_fab = df_fab[columns]\n",
    "    df_app = df_app[columns]\n",
    "\n",
    "    # Merge data\n",
    "    df = pd.concat([df_fab, df_app])\n",
    "\n",
    "    # Convert data\n",
    "    colonnes_a_convertir = [\n",
    "        \"COGS expédié\", \"COGS expédié – Période antérieure (%)\", \"COGS expédié – Même période l'année dernière (%)\",\n",
    "        \"Unités expédiées\", \"Unités expédiées – Période antérieure (%)\", \"Unités expédiées – Même période l'année dernière (%)\",\n",
    "        \"Retours client\", \"Retours du client – Période antérieure (%)\", \"Retours du client – Même période l'année dernière (%)\"\n",
    "    ]\n",
    "    df[colonnes_a_convertir] = df[colonnes_a_convertir].replace({\"€\": \"\", \"%\": \"\", \"\\u202f\": \"\", \",\": \".\"}, regex=True).astype(float)\n",
    "\n",
    "    # Remove duplicates based on COGS\n",
    "    df = df.sort_values(by=[\"ASIN\", \"COGS expédié\"], ascending=[True, False])\n",
    "    df = df.drop_duplicates(subset=\"ASIN\", keep=\"first\")\n",
    "\n",
    "    # Rename columns\n",
    "    columns = [\"ASIN\", \"Nom du produit\", \"Marque\", \"COGS\", \"COGS evol LM\", \"COGS evol SPLY\", \"Unités\", \"Unités evol LM\", \"Unités evol SPLY\", \"Retours\", \"Retours evol LM\", \"Retours evol SPLY\"]\n",
    "    df.columns = columns\n",
    "\n",
    "    # Compute before evols\n",
    "    df[\"COGS LM\"] = (df[\"COGS\"] / (1 + df[\"COGS evol LM\"] / 100)).round(2)\n",
    "    df[\"Unités LM\"] = (df[\"Unités\"] / (1 + df[\"Unités evol LM\"] / 100)).round().fillna(0).astype(int)\n",
    "    df[\"Retours LM\"] = df[\"Retours\"] / (1 + df[\"Retours evol LM\"] / 100)\n",
    "\n",
    "    return df\n",
    "\n",
    "def process_amazon(df_amvisor, df_vendor_central):\n",
    "\n",
    "    # Merge data\n",
    "    df = pd.merge(df_vendor_central, df_amvisor, how=\"outer\", left_on=\"ASIN\", right_on=\"ASIN\")\n",
    "    print(f\"amvisor : {len(df_amvisor)} | vendor_central : {len(df_vendor_central)} | merged : {len(df)}\")\n",
    "    \n",
    "    return df\n",
    "\n",
    "\n",
    "def processing(dates, DOSSIER_DATA = \"processed\"):\n",
    "    all_data = []\n",
    "\n",
    "    for date in dates:\n",
    "        print(f\"-- Processing {date} ...\")\n",
    "        files = get_files(date)\n",
    "        amvisor = process_amvisor(files[0])\n",
    "        vendor_central = process_vendor_central(files[1],files[2])\n",
    "        data = process_amazon(amvisor, vendor_central)\n",
    "        data.to_csv(f\"{DOSSIER_DATA}/data_{date}.csv\")\n",
    "\n",
    "        data[\"extract_date\"] = date\n",
    "        all_data.append(data)\n",
    "\n",
    "    final_df = pd.concat(all_data, ignore_index=True)\n",
    "    final_df.to_csv(f\"{DOSSIER_DATA}/all_data.csv\")\n",
    "    return final_df"
   ]
  },
  {
   "cell_type": "code",
   "execution_count": 92,
   "metadata": {},
   "outputs": [
    {
     "name": "stdout",
     "output_type": "stream",
     "text": [
      "amvisor : 2583 | vendor_central : 1252 | merged : 2834\n",
      "1252 unique ASIN and 1252 rows\n",
      "2583 unique ASIN and 2583 rows\n",
      "2834 unique ASIN and 2834 rows\n"
     ]
    }
   ],
   "source": [
    "files = get_files(\"2025-02\")\n",
    "amvisor = process_amvisor(files[0])\n",
    "vendor_central = process_vendor_central(files[1],files[2])\n",
    "data = process_amazon(amvisor, vendor_central)\n",
    "\n",
    "print(f\"{vendor_central['ASIN'].nunique()} unique ASIN and {vendor_central.shape[0]} rows\")\n",
    "print(f\"{amvisor['ASIN'].nunique()} unique ASIN and {amvisor.shape[0]} rows\")\n",
    "print(f\"{data['ASIN'].nunique()} unique ASIN and {data.shape[0]} rows\")"
   ]
  },
  {
   "cell_type": "code",
   "execution_count": 93,
   "metadata": {},
   "outputs": [
    {
     "name": "stdout",
     "output_type": "stream",
     "text": [
      "-- Processing 2025-02 ...\n",
      "amvisor : 2583 | vendor_central : 1252 | merged : 2834\n",
      "-- Processing 2025-01 ...\n",
      "amvisor : 2225 | vendor_central : 1294 | merged : 2533\n",
      "-- Processing 2024-12 ...\n",
      "amvisor : 2234 | vendor_central : 1279 | merged : 2532\n",
      "-- Processing 2024-11 ...\n",
      "amvisor : 2251 | vendor_central : 1269 | merged : 2532\n"
     ]
    }
   ],
   "source": [
    "dates = [\"2025-02\", \"2025-01\", \"2024-12\",\"2024-11\"]\n",
    "data = processing(dates)"
   ]
  },
  {
   "cell_type": "code",
   "execution_count": null,
   "metadata": {},
   "outputs": [],
   "source": []
  }
 ],
 "metadata": {
  "kernelspec": {
   "display_name": "Python 3",
   "language": "python",
   "name": "python3"
  },
  "language_info": {
   "codemirror_mode": {
    "name": "ipython",
    "version": 3
   },
   "file_extension": ".py",
   "mimetype": "text/x-python",
   "name": "python",
   "nbconvert_exporter": "python",
   "pygments_lexer": "ipython3",
   "version": "3.10.0"
  }
 },
 "nbformat": 4,
 "nbformat_minor": 2
}
